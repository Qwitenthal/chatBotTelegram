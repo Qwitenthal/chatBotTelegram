{
  "nbformat": 4,
  "nbformat_minor": 0,
  "metadata": {
    "colab": {
      "provenance": [],
      "include_colab_link": true
    },
    "kernelspec": {
      "name": "python3",
      "display_name": "Python 3"
    },
    "language_info": {
      "name": "python"
    }
  },
  "cells": [
    {
      "cell_type": "markdown",
      "metadata": {
        "id": "view-in-github",
        "colab_type": "text"
      },
      "source": [
        "<a href=\"https://colab.research.google.com/github/Qwitenthal/chatBotTelegram/blob/main/5.ipynb\" target=\"_parent\"><img src=\"https://colab.research.google.com/assets/colab-badge.svg\" alt=\"Open In Colab\"/></a>"
      ]
    },
    {
      "cell_type": "code",
      "execution_count": 1,
      "metadata": {
        "id": "WHqHZ40sJyf-",
        "colab": {
          "base_uri": "https://localhost:8080/",
          "height": 400
        },
        "outputId": "3a9837ef-076b-4bfe-9543-800196cb64d8"
      },
      "outputs": [
        {
          "output_type": "error",
          "ename": "ModuleNotFoundError",
          "evalue": "No module named 'telethon'",
          "traceback": [
            "\u001b[0;31m---------------------------------------------------------------------------\u001b[0m",
            "\u001b[0;31mModuleNotFoundError\u001b[0m                       Traceback (most recent call last)",
            "\u001b[0;32m<ipython-input-1-2c1eed7e5fae>\u001b[0m in \u001b[0;36m<cell line: 0>\u001b[0;34m()\u001b[0m\n\u001b[1;32m      1\u001b[0m \u001b[0;32mfrom\u001b[0m \u001b[0mpytz\u001b[0m \u001b[0;32mimport\u001b[0m \u001b[0mtimezone\u001b[0m\u001b[0;34m\u001b[0m\u001b[0;34m\u001b[0m\u001b[0m\n\u001b[0;32m----> 2\u001b[0;31m \u001b[0;32mimport\u001b[0m \u001b[0mtelethon\u001b[0m\u001b[0;34m\u001b[0m\u001b[0;34m\u001b[0m\u001b[0m\n\u001b[0m\u001b[1;32m      3\u001b[0m \u001b[0;32mfrom\u001b[0m \u001b[0mremove_extra\u001b[0m \u001b[0;32mimport\u001b[0m \u001b[0mremove_emojis\u001b[0m\u001b[0;34m\u001b[0m\u001b[0;34m\u001b[0m\u001b[0m\n\u001b[1;32m      4\u001b[0m \u001b[0;32mimport\u001b[0m \u001b[0masyncio\u001b[0m\u001b[0;34m\u001b[0m\u001b[0;34m\u001b[0m\u001b[0m\n\u001b[1;32m      5\u001b[0m \u001b[0;32mimport\u001b[0m \u001b[0mjson\u001b[0m\u001b[0;34m\u001b[0m\u001b[0;34m\u001b[0m\u001b[0m\n",
            "\u001b[0;31mModuleNotFoundError\u001b[0m: No module named 'telethon'",
            "",
            "\u001b[0;31m---------------------------------------------------------------------------\u001b[0;32m\nNOTE: If your import is failing due to a missing package, you can\nmanually install dependencies using either !pip or !apt.\n\nTo view examples of installing some common dependencies, click the\n\"Open Examples\" button below.\n\u001b[0;31m---------------------------------------------------------------------------\u001b[0m\n"
          ],
          "errorDetails": {
            "actions": [
              {
                "action": "open_url",
                "actionText": "Open Examples",
                "url": "/notebooks/snippets/importing_libraries.ipynb"
              }
            ]
          }
        }
      ],
      "source": [
        "from pytz import timezone\n",
        "import telethon\n",
        "from remove_extra import remove_emojis\n",
        "import asyncio\n",
        "import json\n",
        "from telethon.errors import rpcerrorlist\n",
        "from langdetect import detect, LangDetectException\n",
        "\n",
        "\n",
        "TELEGRAM_CHANNEL = 'https://t.me/borys_filatovv'\n",
        "api_id = '22357481'\n",
        "api_hash = 'd9f3d2358d6b5b43314865237d54d9ab8'\n",
        "phone_number = '+380507828385'\n",
        "user_name = 'oliavoronova'\n",
        "\n",
        "\n",
        "client = telethon.TelegramClient(user_name, api_id, api_hash)\n",
        "\n",
        "\n",
        "async def get_posts(channel_username, limit, offset_id):\n",
        "\n",
        "\n",
        "   posts = []\n",
        "\n",
        "\n",
        "   while len(posts) < limit:\n",
        "       try:\n",
        "           messages = await client.get_messages(channel_username,limit=100,offset_id=offset_id)\n",
        "       except rpcerrorlist.FloodWaitError as e:\n",
        "           # Handle FloodWaitError by waiting for the specified time\n",
        "           wait_time = e.seconds\n",
        "           print(f\"FloodWaitError: Waiting for {wait_time} seconds before retrying...\")\n",
        "           await asyncio.sleep(wait_time)\n",
        "           continue\n",
        "\n",
        "\n",
        "       if not messages:\n",
        "           break\n",
        "\n",
        "       posts.extend(messages)\n",
        "\n",
        "\n",
        "       offset_id = messages[-1].id\n",
        "\n",
        "\n",
        "   return posts, offset_id\n",
        "\n",
        "\n",
        "posts_dict = {}\n",
        "\n",
        "\n",
        "async def main():\n",
        "   await client.start(phone_number)\n",
        "   channel_username = TELEGRAM_CHANNEL\n",
        "   limit = 100\n",
        "   offset_id = 0\n",
        "   counter = 0\n",
        "\n",
        "\n",
        "   def contains_letters(input_string):\n",
        "       for char in input_string:\n",
        "           if char.isalpha():\n",
        "               return True\n",
        "       return False\n",
        "\n",
        "\n",
        "   while True:\n",
        "       posts, offset_id = await get_posts(channel_username, limit, offset_id)\n",
        "       if not posts:\n",
        "           break\n",
        "\n",
        "\n",
        "       local_tz = timezone('Europe/Kiev')\n",
        "\n",
        "\n",
        "\n",
        "       for ind, post in enumerate(posts):\n",
        "\n",
        "\n",
        "           if post.text != None and post.text.strip() != '' and contains_letters(post.text):\n",
        "\n",
        "               try:\n",
        "\n",
        "\n",
        "                   lang_detected = detect(post.text)\n",
        "\n",
        "\n",
        "                   if lang_detected=='uk':\n",
        "\n",
        "\n",
        "                       message = str(post.message).replace('\\n', ' ').strip()\n",
        "                       clean_message = remove_emojis(message)\n",
        "                       entire_date = post.date.astimezone(local_tz)\n",
        "                       formatted_date = entire_date.strftime(\"%Y-%m-%d %H:%M:%S\")\n",
        "\n",
        "\n",
        "                       index = f\"{ind:02}\"\n",
        "\n",
        "\n",
        "                       posts_dict[f'{counter}{index}'] = [{\"date\":formatted_date}, {\"post\":clean_message}]\n",
        "\n",
        "\n",
        "                       print(f'{counter}{index}')\n",
        "                       print(formatted_date)\n",
        "                       print(clean_message)\n",
        "                       print('\\n')\n",
        "\n",
        "               except LangDetectException:\n",
        "                   continue\n",
        "\n",
        "\n",
        "\n",
        "       counter += 1\n",
        "\n",
        "       await asyncio.sleep(5)\n",
        "\n",
        "   await client.disconnect()\n",
        "\n",
        "\n",
        "   with open('m.json', 'w') as outfile:\n",
        "       json.dump(posts_dict, outfile, ensure_ascii=False, indent=4)\n",
        "\n",
        "\n",
        "if __name__=='__main__':\n",
        "   asyncio.run(main())\n"
      ]
    }
  ]
}